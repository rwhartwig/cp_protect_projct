{
    "cells": [
        {
            "metadata": {},
            "cell_type": "markdown",
            "source": "# Spectrum Protect Summary Table Analysis\n\nCreated by: Robert Hartwig\nLast edited:  November 26, 2020\nVerison: 2.0\n\nThis Jupyter notebook analysis the a Spectrum Protect instance summary table to graph the daily backup ingest\nand daily restore."
        },
        {
            "metadata": {},
            "cell_type": "code",
            "source": "import pandas as pd\nimport numpy as np\nimport matplotlib.pyplot as plt",
            "execution_count": 1,
            "outputs": []
        },
        {
            "metadata": {},
            "cell_type": "markdown",
            "source": "### Download a sample Spectrum Protect summary table from IBM Cloud bucket."
        },
        {
            "metadata": {
                "scrolled": true
            },
            "cell_type": "code",
            "source": "!wget -O summary.txt https://cp-protect-project.s3.us-east.cloud-object-storage.appdomain.cloud/summary.txt\n# df = pd.read_csv('/Users/rhartwig/workspace/nhs/TSM_Troubleshooting/summary/summary.txt', skiprows=9, header=None)\n# df = pd.read_csv('/Users/rhartwig/workspace/nhs/TSM_Troubleshooting/summary/summary_TSM3.txt', skiprows=9, header=None)\n# df = pd.read_csv('/Users/rhartwig/workspace/nhs/TSM_Troubleshooting/summary/summary_TSM2', skiprows=9, header=None)\n# df = pd.read_csv('/Users/rhartwig/workspace/nhs/TSM_Troubleshooting/summary/SUMMARY_SCTSM03.log', skiprows=9, header=None)",
            "execution_count": 2,
            "outputs": [
                {
                    "output_type": "stream",
                    "text": "--2020-11-27 03:16:27--  https://cp-protect-project.s3.us-east.cloud-object-storage.appdomain.cloud/summary.txt\nResolving cp-protect-project.s3.us-east.cloud-object-storage.appdomain.cloud (cp-protect-project.s3.us-east.cloud-object-storage.appdomain.cloud)... 169.63.118.98\nConnecting to cp-protect-project.s3.us-east.cloud-object-storage.appdomain.cloud (cp-protect-project.s3.us-east.cloud-object-storage.appdomain.cloud)|169.63.118.98|:443... connected.\nHTTP request sent, awaiting response... 200 OK\nLength: 4569083 (4.4M) [application/octet-stream]\nSaving to: \u2018summary.txt\u2019\n\nsummary.txt         100%[===================>]   4.36M   584KB/s    in 7.5s    \n\n2020-11-27 03:16:35 (593 KB/s) - \u2018summary.txt\u2019 saved [4569083/4569083]\n\n",
                    "name": "stdout"
                }
            ]
        },
        {
            "metadata": {},
            "cell_type": "markdown",
            "source": "### Drop the last 2 rows in the dataframe. Spectrum Protect 7.x summary table last 2 rows have NAN data that causes problems \n### when doing the analysis."
        },
        {
            "metadata": {},
            "cell_type": "code",
            "source": "# df.drop(df.tail(2).index,inplace=True) # drop last n rows",
            "execution_count": 3,
            "outputs": []
        },
        {
            "metadata": {},
            "cell_type": "markdown",
            "source": "### Load the summary.txt file into a dataframe.  Skipping the first 9 rows of the summary.txt as it is just comments."
        },
        {
            "metadata": {},
            "cell_type": "code",
            "source": "df = pd.read_csv('summary.txt', skiprows=9, header=None)",
            "execution_count": 4,
            "outputs": []
        },
        {
            "metadata": {},
            "cell_type": "markdown",
            "source": "### Naming to the colums as using the following IBM Knowledge Center Spectrum Protect 7.1 page.\n\nhttps://www.ibm.com/support/knowledgecenter/SSGSG7_7.1.0/com.ibm.itsm.srv.doc/t_sql_activity_summ_tbl_querying.html\n\nIf the number of columns is 22, then this most likely a TSM 6.3 instance.  \n\nIf the number of columns is 26, then this most likely a Spectrum Protect 7.x/8.x instance."
        },
        {
            "metadata": {},
            "cell_type": "code",
            "source": "df.shape",
            "execution_count": 5,
            "outputs": [
                {
                    "output_type": "execute_result",
                    "execution_count": 5,
                    "data": {
                        "text/plain": "(35910, 22)"
                    },
                    "metadata": {}
                }
            ]
        },
        {
            "metadata": {},
            "cell_type": "code",
            "source": "if df.shape[1]==26:\n    df.columns = [\"START_TIME:\", \"END_TIME:\", \"ACTIVITY:\", \"NUMBER:\", \"ENTITY:\", \"COMMMETH:\", \"ADDRESS:\", \"SCHEDULE_NAME:\", \"EXAMINED:\", \"AFFECTED:\", \"FAILED:\", \"BYTES:\", \"IDLE:\", \"MEDIAW:\", \"PROCESSES:\", \"SUCCESSFUL:\", \"VOLUME_NAME:\", \"DRIVE_NAME:\", \"LIBRARY_NAME:\", \"LAST_USE:\", \"COMM_WAIT:\", \"NUM_OFFSITE_VOLS:\", \"UNKNOWN1\", \"UNKNOWN2\", \"UNKNOWN3\", \"UNKNOWN4\"]\nelif df.shape[1]==22:\n    df.columns = [\"START_TIME:\", \"END_TIME:\", \"ACTIVITY:\", \"NUMBER:\", \"ENTITY:\", \"COMMMETH:\", \"ADDRESS:\", \"SCHEDULE_NAME:\", \"EXAMINED:\", \"AFFECTED:\", \"FAILED:\", \"BYTES:\", \"IDLE:\", \"MEDIAW:\", \"PROCESSES:\", \"SUCCESSFUL:\", \"VOLUME_NAME:\", \"DRIVE_NAME:\", \"LIBRARY_NAME:\", \"LAST_USE:\", \"COMM_WAIT:\", \"NUM_OFFSITE_VOLS:\"]",
            "execution_count": 6,
            "outputs": []
        },
        {
            "metadata": {},
            "cell_type": "code",
            "source": "df = df.sort_values(by=['START_TIME:'], ascending=True)",
            "execution_count": 7,
            "outputs": []
        },
        {
            "metadata": {},
            "cell_type": "code",
            "source": "list(df.columns)",
            "execution_count": 8,
            "outputs": [
                {
                    "output_type": "execute_result",
                    "execution_count": 8,
                    "data": {
                        "text/plain": "['START_TIME:',\n 'END_TIME:',\n 'ACTIVITY:',\n 'NUMBER:',\n 'ENTITY:',\n 'COMMMETH:',\n 'ADDRESS:',\n 'SCHEDULE_NAME:',\n 'EXAMINED:',\n 'AFFECTED:',\n 'FAILED:',\n 'BYTES:',\n 'IDLE:',\n 'MEDIAW:',\n 'PROCESSES:',\n 'SUCCESSFUL:',\n 'VOLUME_NAME:',\n 'DRIVE_NAME:',\n 'LIBRARY_NAME:',\n 'LAST_USE:',\n 'COMM_WAIT:',\n 'NUM_OFFSITE_VOLS:']"
                    },
                    "metadata": {}
                }
            ]
        },
        {
            "metadata": {},
            "cell_type": "markdown",
            "source": "### Make sure that there are no NAN values in the START_TIME:, END_TIME:, and BYTES: rows."
        },
        {
            "metadata": {},
            "cell_type": "code",
            "source": "df[df['START_TIME:'].isnull()]",
            "execution_count": 9,
            "outputs": [
                {
                    "output_type": "execute_result",
                    "execution_count": 9,
                    "data": {
                        "text/plain": "Empty DataFrame\nColumns: [START_TIME:, END_TIME:, ACTIVITY:, NUMBER:, ENTITY:, COMMMETH:, ADDRESS:, SCHEDULE_NAME:, EXAMINED:, AFFECTED:, FAILED:, BYTES:, IDLE:, MEDIAW:, PROCESSES:, SUCCESSFUL:, VOLUME_NAME:, DRIVE_NAME:, LIBRARY_NAME:, LAST_USE:, COMM_WAIT:, NUM_OFFSITE_VOLS:]\nIndex: []\n\n[0 rows x 22 columns]",
                        "text/html": "<div>\n<style scoped>\n    .dataframe tbody tr th:only-of-type {\n        vertical-align: middle;\n    }\n\n    .dataframe tbody tr th {\n        vertical-align: top;\n    }\n\n    .dataframe thead th {\n        text-align: right;\n    }\n</style>\n<table border=\"1\" class=\"dataframe\">\n  <thead>\n    <tr style=\"text-align: right;\">\n      <th></th>\n      <th>START_TIME:</th>\n      <th>END_TIME:</th>\n      <th>ACTIVITY:</th>\n      <th>NUMBER:</th>\n      <th>ENTITY:</th>\n      <th>COMMMETH:</th>\n      <th>ADDRESS:</th>\n      <th>SCHEDULE_NAME:</th>\n      <th>EXAMINED:</th>\n      <th>AFFECTED:</th>\n      <th>...</th>\n      <th>IDLE:</th>\n      <th>MEDIAW:</th>\n      <th>PROCESSES:</th>\n      <th>SUCCESSFUL:</th>\n      <th>VOLUME_NAME:</th>\n      <th>DRIVE_NAME:</th>\n      <th>LIBRARY_NAME:</th>\n      <th>LAST_USE:</th>\n      <th>COMM_WAIT:</th>\n      <th>NUM_OFFSITE_VOLS:</th>\n    </tr>\n  </thead>\n  <tbody>\n  </tbody>\n</table>\n<p>0 rows \u00d7 22 columns</p>\n</div>"
                    },
                    "metadata": {}
                }
            ]
        },
        {
            "metadata": {},
            "cell_type": "code",
            "source": "df[df['END_TIME:'].isnull()]",
            "execution_count": 10,
            "outputs": [
                {
                    "output_type": "execute_result",
                    "execution_count": 10,
                    "data": {
                        "text/plain": "Empty DataFrame\nColumns: [START_TIME:, END_TIME:, ACTIVITY:, NUMBER:, ENTITY:, COMMMETH:, ADDRESS:, SCHEDULE_NAME:, EXAMINED:, AFFECTED:, FAILED:, BYTES:, IDLE:, MEDIAW:, PROCESSES:, SUCCESSFUL:, VOLUME_NAME:, DRIVE_NAME:, LIBRARY_NAME:, LAST_USE:, COMM_WAIT:, NUM_OFFSITE_VOLS:]\nIndex: []\n\n[0 rows x 22 columns]",
                        "text/html": "<div>\n<style scoped>\n    .dataframe tbody tr th:only-of-type {\n        vertical-align: middle;\n    }\n\n    .dataframe tbody tr th {\n        vertical-align: top;\n    }\n\n    .dataframe thead th {\n        text-align: right;\n    }\n</style>\n<table border=\"1\" class=\"dataframe\">\n  <thead>\n    <tr style=\"text-align: right;\">\n      <th></th>\n      <th>START_TIME:</th>\n      <th>END_TIME:</th>\n      <th>ACTIVITY:</th>\n      <th>NUMBER:</th>\n      <th>ENTITY:</th>\n      <th>COMMMETH:</th>\n      <th>ADDRESS:</th>\n      <th>SCHEDULE_NAME:</th>\n      <th>EXAMINED:</th>\n      <th>AFFECTED:</th>\n      <th>...</th>\n      <th>IDLE:</th>\n      <th>MEDIAW:</th>\n      <th>PROCESSES:</th>\n      <th>SUCCESSFUL:</th>\n      <th>VOLUME_NAME:</th>\n      <th>DRIVE_NAME:</th>\n      <th>LIBRARY_NAME:</th>\n      <th>LAST_USE:</th>\n      <th>COMM_WAIT:</th>\n      <th>NUM_OFFSITE_VOLS:</th>\n    </tr>\n  </thead>\n  <tbody>\n  </tbody>\n</table>\n<p>0 rows \u00d7 22 columns</p>\n</div>"
                    },
                    "metadata": {}
                }
            ]
        },
        {
            "metadata": {},
            "cell_type": "code",
            "source": "df[df['BYTES:'].isnull()]",
            "execution_count": 11,
            "outputs": [
                {
                    "output_type": "execute_result",
                    "execution_count": 11,
                    "data": {
                        "text/plain": "Empty DataFrame\nColumns: [START_TIME:, END_TIME:, ACTIVITY:, NUMBER:, ENTITY:, COMMMETH:, ADDRESS:, SCHEDULE_NAME:, EXAMINED:, AFFECTED:, FAILED:, BYTES:, IDLE:, MEDIAW:, PROCESSES:, SUCCESSFUL:, VOLUME_NAME:, DRIVE_NAME:, LIBRARY_NAME:, LAST_USE:, COMM_WAIT:, NUM_OFFSITE_VOLS:]\nIndex: []\n\n[0 rows x 22 columns]",
                        "text/html": "<div>\n<style scoped>\n    .dataframe tbody tr th:only-of-type {\n        vertical-align: middle;\n    }\n\n    .dataframe tbody tr th {\n        vertical-align: top;\n    }\n\n    .dataframe thead th {\n        text-align: right;\n    }\n</style>\n<table border=\"1\" class=\"dataframe\">\n  <thead>\n    <tr style=\"text-align: right;\">\n      <th></th>\n      <th>START_TIME:</th>\n      <th>END_TIME:</th>\n      <th>ACTIVITY:</th>\n      <th>NUMBER:</th>\n      <th>ENTITY:</th>\n      <th>COMMMETH:</th>\n      <th>ADDRESS:</th>\n      <th>SCHEDULE_NAME:</th>\n      <th>EXAMINED:</th>\n      <th>AFFECTED:</th>\n      <th>...</th>\n      <th>IDLE:</th>\n      <th>MEDIAW:</th>\n      <th>PROCESSES:</th>\n      <th>SUCCESSFUL:</th>\n      <th>VOLUME_NAME:</th>\n      <th>DRIVE_NAME:</th>\n      <th>LIBRARY_NAME:</th>\n      <th>LAST_USE:</th>\n      <th>COMM_WAIT:</th>\n      <th>NUM_OFFSITE_VOLS:</th>\n    </tr>\n  </thead>\n  <tbody>\n  </tbody>\n</table>\n<p>0 rows \u00d7 22 columns</p>\n</div>"
                    },
                    "metadata": {}
                }
            ]
        },
        {
            "metadata": {},
            "cell_type": "markdown",
            "source": "### Convert the START_TIME and END_TIME from string to datetime format"
        },
        {
            "metadata": {},
            "cell_type": "code",
            "source": "df['START_TIME:'].astype('datetime64')",
            "execution_count": 12,
            "outputs": [
                {
                    "output_type": "execute_result",
                    "execution_count": 12,
                    "data": {
                        "text/plain": "8258    2016-11-06 00:00:44\n8267    2016-11-06 00:00:44\n8266    2016-11-06 00:01:00\n8268    2016-11-06 00:01:02\n8257    2016-11-06 00:04:53\n                ...        \n35890   2016-12-06 15:51:37\n35887   2016-12-06 15:51:37\n35886   2016-12-06 15:51:37\n35899   2016-12-06 15:51:37\n35889   2016-12-06 15:51:37\nName: START_TIME:, Length: 35910, dtype: datetime64[ns]"
                    },
                    "metadata": {}
                }
            ]
        },
        {
            "metadata": {},
            "cell_type": "markdown",
            "source": "### Format the END_TIME field"
        },
        {
            "metadata": {},
            "cell_type": "code",
            "source": "df['END_TIME:'].astype('datetime64')",
            "execution_count": 13,
            "outputs": [
                {
                    "output_type": "execute_result",
                    "execution_count": 13,
                    "data": {
                        "text/plain": "8258    2016-11-06 00:04:53\n8267    2016-11-06 00:00:51\n8266    2016-11-06 00:01:02\n8268    2016-11-06 00:01:07\n8257    2016-11-06 00:04:55\n                ...        \n35890   2016-12-06 15:51:37\n35887   2016-12-06 15:51:37\n35886   2016-12-06 15:51:37\n35899   2016-12-06 15:51:37\n35889   2016-12-06 15:51:37\nName: END_TIME:, Length: 35910, dtype: datetime64[ns]"
                    },
                    "metadata": {}
                }
            ]
        },
        {
            "metadata": {},
            "cell_type": "markdown",
            "source": "### Making sure the BYTES column is an integer so to calculate the sum of the daily bytes"
        },
        {
            "metadata": {},
            "cell_type": "code",
            "source": "df['BYTES:'].astype('int64')",
            "execution_count": 14,
            "outputs": [
                {
                    "output_type": "execute_result",
                    "execution_count": 14,
                    "data": {
                        "text/plain": "8258     567043030\n8267         39788\n8266          7958\n8268          9494\n8257          9494\n           ...    \n35890           45\n35887        68336\n35886        69476\n35899          110\n35889            0\nName: BYTES:, Length: 35910, dtype: int64"
                    },
                    "metadata": {}
                }
            ]
        },
        {
            "metadata": {},
            "cell_type": "markdown",
            "source": "### Use the Pandas dt.normalize to format the date & time to calculate daily sums"
        },
        {
            "metadata": {},
            "cell_type": "code",
            "source": "df['START_TIME:'] = pd.to_datetime(df['START_TIME:']).dt.normalize()",
            "execution_count": 15,
            "outputs": []
        },
        {
            "metadata": {},
            "cell_type": "code",
            "source": "df['END_TIME:'] = pd.to_datetime(df['END_TIME:']).dt.normalize()",
            "execution_count": 16,
            "outputs": []
        },
        {
            "metadata": {},
            "cell_type": "code",
            "source": "df.head()",
            "execution_count": 17,
            "outputs": [
                {
                    "output_type": "execute_result",
                    "execution_count": 17,
                    "data": {
                        "text/plain": "     START_TIME:  END_TIME: ACTIVITY:  NUMBER:                    ENTITY:  \\\n8258  2016-11-06 2016-11-06    BACKUP  3470732   SQLCLUS03 (DC-SQL34_SQL)   \n8267  2016-11-06 2016-11-06    BACKUP  3470733              SCS-SQL34_SQL   \n8266  2016-11-06 2016-11-06    BACKUP  3470744  SQLCLUS03 (SCS-SQL33_SQL)   \n8268  2016-11-06 2016-11-06    BACKUP  3470745              SCS-SQL33_SQL   \n8257  2016-11-06 2016-11-06    BACKUP  3470775               DC-SQL34_SQL   \n\n     COMMMETH:           ADDRESS:  SCHEDULE_NAME:  EXAMINED:  AFFECTED:  ...  \\\n8258    Tcp/Ip  172.31.2.97:52416  SQLLOGS_HOURLY          0         99  ...   \n8267    Tcp/Ip  172.25.2.55:60916  SQLLOGS_HOURLY          0          6  ...   \n8266    Tcp/Ip  172.25.2.54:52635  SQLLOGS_HOURLY          0          3  ...   \n8268    Tcp/Ip  172.25.2.54:52636  SQLLOGS_HOURLY          0          3  ...   \n8257    Tcp/Ip  172.31.2.97:52505  SQLLOGS_HOURLY          0          3  ...   \n\n      IDLE:  MEDIAW:  PROCESSES:  SUCCESSFUL:  VOLUME_NAME: DRIVE_NAME:  \\\n8258    212        0           1          YES           NaN         NaN   \n8267      6        0           1          YES           NaN         NaN   \n8266      1        0           1          YES           NaN         NaN   \n8268      4        0           1          YES           NaN         NaN   \n8257      1        0           1          YES           NaN         NaN   \n\n     LIBRARY_NAME: LAST_USE: COMM_WAIT: NUM_OFFSITE_VOLS:  \n8258           NaN       NaN       25.0               NaN  \n8267           NaN       NaN        0.0               NaN  \n8266           NaN       NaN        0.0               NaN  \n8268           NaN       NaN        0.0               NaN  \n8257           NaN       NaN        0.0               NaN  \n\n[5 rows x 22 columns]",
                        "text/html": "<div>\n<style scoped>\n    .dataframe tbody tr th:only-of-type {\n        vertical-align: middle;\n    }\n\n    .dataframe tbody tr th {\n        vertical-align: top;\n    }\n\n    .dataframe thead th {\n        text-align: right;\n    }\n</style>\n<table border=\"1\" class=\"dataframe\">\n  <thead>\n    <tr style=\"text-align: right;\">\n      <th></th>\n      <th>START_TIME:</th>\n      <th>END_TIME:</th>\n      <th>ACTIVITY:</th>\n      <th>NUMBER:</th>\n      <th>ENTITY:</th>\n      <th>COMMMETH:</th>\n      <th>ADDRESS:</th>\n      <th>SCHEDULE_NAME:</th>\n      <th>EXAMINED:</th>\n      <th>AFFECTED:</th>\n      <th>...</th>\n      <th>IDLE:</th>\n      <th>MEDIAW:</th>\n      <th>PROCESSES:</th>\n      <th>SUCCESSFUL:</th>\n      <th>VOLUME_NAME:</th>\n      <th>DRIVE_NAME:</th>\n      <th>LIBRARY_NAME:</th>\n      <th>LAST_USE:</th>\n      <th>COMM_WAIT:</th>\n      <th>NUM_OFFSITE_VOLS:</th>\n    </tr>\n  </thead>\n  <tbody>\n    <tr>\n      <th>8258</th>\n      <td>2016-11-06</td>\n      <td>2016-11-06</td>\n      <td>BACKUP</td>\n      <td>3470732</td>\n      <td>SQLCLUS03 (DC-SQL34_SQL)</td>\n      <td>Tcp/Ip</td>\n      <td>172.31.2.97:52416</td>\n      <td>SQLLOGS_HOURLY</td>\n      <td>0</td>\n      <td>99</td>\n      <td>...</td>\n      <td>212</td>\n      <td>0</td>\n      <td>1</td>\n      <td>YES</td>\n      <td>NaN</td>\n      <td>NaN</td>\n      <td>NaN</td>\n      <td>NaN</td>\n      <td>25.0</td>\n      <td>NaN</td>\n    </tr>\n    <tr>\n      <th>8267</th>\n      <td>2016-11-06</td>\n      <td>2016-11-06</td>\n      <td>BACKUP</td>\n      <td>3470733</td>\n      <td>SCS-SQL34_SQL</td>\n      <td>Tcp/Ip</td>\n      <td>172.25.2.55:60916</td>\n      <td>SQLLOGS_HOURLY</td>\n      <td>0</td>\n      <td>6</td>\n      <td>...</td>\n      <td>6</td>\n      <td>0</td>\n      <td>1</td>\n      <td>YES</td>\n      <td>NaN</td>\n      <td>NaN</td>\n      <td>NaN</td>\n      <td>NaN</td>\n      <td>0.0</td>\n      <td>NaN</td>\n    </tr>\n    <tr>\n      <th>8266</th>\n      <td>2016-11-06</td>\n      <td>2016-11-06</td>\n      <td>BACKUP</td>\n      <td>3470744</td>\n      <td>SQLCLUS03 (SCS-SQL33_SQL)</td>\n      <td>Tcp/Ip</td>\n      <td>172.25.2.54:52635</td>\n      <td>SQLLOGS_HOURLY</td>\n      <td>0</td>\n      <td>3</td>\n      <td>...</td>\n      <td>1</td>\n      <td>0</td>\n      <td>1</td>\n      <td>YES</td>\n      <td>NaN</td>\n      <td>NaN</td>\n      <td>NaN</td>\n      <td>NaN</td>\n      <td>0.0</td>\n      <td>NaN</td>\n    </tr>\n    <tr>\n      <th>8268</th>\n      <td>2016-11-06</td>\n      <td>2016-11-06</td>\n      <td>BACKUP</td>\n      <td>3470745</td>\n      <td>SCS-SQL33_SQL</td>\n      <td>Tcp/Ip</td>\n      <td>172.25.2.54:52636</td>\n      <td>SQLLOGS_HOURLY</td>\n      <td>0</td>\n      <td>3</td>\n      <td>...</td>\n      <td>4</td>\n      <td>0</td>\n      <td>1</td>\n      <td>YES</td>\n      <td>NaN</td>\n      <td>NaN</td>\n      <td>NaN</td>\n      <td>NaN</td>\n      <td>0.0</td>\n      <td>NaN</td>\n    </tr>\n    <tr>\n      <th>8257</th>\n      <td>2016-11-06</td>\n      <td>2016-11-06</td>\n      <td>BACKUP</td>\n      <td>3470775</td>\n      <td>DC-SQL34_SQL</td>\n      <td>Tcp/Ip</td>\n      <td>172.31.2.97:52505</td>\n      <td>SQLLOGS_HOURLY</td>\n      <td>0</td>\n      <td>3</td>\n      <td>...</td>\n      <td>1</td>\n      <td>0</td>\n      <td>1</td>\n      <td>YES</td>\n      <td>NaN</td>\n      <td>NaN</td>\n      <td>NaN</td>\n      <td>NaN</td>\n      <td>0.0</td>\n      <td>NaN</td>\n    </tr>\n  </tbody>\n</table>\n<p>5 rows \u00d7 22 columns</p>\n</div>"
                    },
                    "metadata": {}
                }
            ]
        },
        {
            "metadata": {},
            "cell_type": "markdown",
            "source": "### Sort and do a daily summary in the dataframe using the ACTIVITY columm using BACKUP as the search parameter.  \nThe first and last date are removed to give a more accerate analysis of the daily backup."
        },
        {
            "metadata": {},
            "cell_type": "code",
            "source": "dbkup = df[df['ACTIVITY:'].str.match('BACKUP')].groupby('START_TIME:').sum().tail(-1).head(-1)",
            "execution_count": 18,
            "outputs": []
        },
        {
            "metadata": {},
            "cell_type": "code",
            "source": "dbkup",
            "execution_count": 19,
            "outputs": [
                {
                    "output_type": "execute_result",
                    "execution_count": 19,
                    "data": {
                        "text/plain": "                NUMBER:  EXAMINED:  AFFECTED:  FAILED:         BYTES:   IDLE:  \\\nSTART_TIME:                                                                     \n2016-11-07    877622596   14766747     184971        7  1956957436159  103803   \n2016-11-08    933953143   14780073     217950        4  2186183757981  102577   \n2016-11-09    916952346   20106485     189803        3  1931205094112  102231   \n2016-11-10    924892730   20097703     231797        3  1889453833598  101774   \n2016-11-11   1512884531   20263273     330708        3  2319285138379  113758   \n2016-11-12    921502936   11577790     151504        3  1720366362319   99446   \n2016-11-13    922994403   14059516     161012        3  1752806611683   98653   \n2016-11-14    944676301   15332736     187930        3  1980952799805  126337   \n2016-11-15    961036081   14776192     223302        1  1947672625207   99486   \n2016-11-16    969444913   21287592    4222565       22  2332554722599  104523   \n2016-11-17    983160240   20200592     293798        1  1890884404962  101163   \n2016-11-18   1649381122   28118829     165869       43  2136102885679  112475   \n2016-11-19   1023411880   24092197     152100       22  1774388807848  107819   \n2016-11-20   1037658441   24099875     149476       22  1794374942100  108344   \n2016-11-21   1063960153   24133723     161489       22  1915586515870  104044   \n2016-11-22   1099069928   24145572     169801       22  2152853062572  107514   \n2016-11-23   1096264295   24162235     165795       22  1963544444572  104114   \n2016-11-24   1114357367   18892552     164489       26  1968893844260  104485   \n2016-11-25   1844784406   18893510     156673       22  2071912513310  110028   \n2016-11-26   1154554333   15658538     139149       28  1862411945732   99066   \n2016-11-27   1163690659   15666079     139602       22  1787670970108   96079   \n2016-11-28   1185961314   18924925     162249       23  1989061467850   99852   \n2016-11-29   1236471009   18944687     167615       28  1976046021410  105885   \n2016-11-30   1259984470   19290038     356707       28  2005547488430  107254   \n2016-12-01   1288351823   19375531     243054       31  2001852769251  105593   \n2016-12-02   2226184479   19539172     385440        3  2113658028033  119454   \n2016-12-03   1311612099   16276171     138040        4  1824735077826  100808   \n2016-12-04   1320111300   22017208     174379        3  1830635407578  111980   \n2016-12-05   1343596860   19113308     223586        4  3400947715518  103453   \n\n             MEDIAW:  PROCESSES:  COMM_WAIT:  NUM_OFFSITE_VOLS:  \nSTART_TIME:                                                      \n2016-11-07      1293         444     30264.0                0.0  \n2016-11-08      1526         475     36669.0                0.0  \n2016-11-09      1614         485     30149.0                0.0  \n2016-11-10      1338         471     29801.0                0.0  \n2016-11-11      1376         593     48012.0                0.0  \n2016-11-12      2194         446     22433.0                0.0  \n2016-11-13      1493         478     24446.0                0.0  \n2016-11-14      1444         482     30922.0                0.0  \n2016-11-15      1485         408     31628.0                0.0  \n2016-11-16      1451         412     35194.0                0.0  \n2016-11-17      4439         402     31302.0                0.0  \n2016-11-18      1336         571     32008.0                0.0  \n2016-11-19      1324         376     23487.0                0.0  \n2016-11-20      1373         378     22090.0                0.0  \n2016-11-21      1521         421     28314.0                0.0  \n2016-11-22      1403         423     33088.0                0.0  \n2016-11-23      1311         421     28775.0                0.0  \n2016-11-24      1293         431     27283.0                0.0  \n2016-11-25      1242         562     29585.0                0.0  \n2016-11-26      1249         435     24347.0                0.0  \n2016-11-27      1542         367     20975.0                0.0  \n2016-11-28      1369         422     28600.0                0.0  \n2016-11-29      1497         464     29874.0                0.0  \n2016-11-30      1327         518     30340.0                0.0  \n2016-12-01      1225         478     33914.0                0.0  \n2016-12-02      1241         671     29830.0                0.0  \n2016-12-03      1221         442     24349.0                0.0  \n2016-12-04      1214         464     26531.0                0.0  \n2016-12-05     13094         496     45837.0                0.0  ",
                        "text/html": "<div>\n<style scoped>\n    .dataframe tbody tr th:only-of-type {\n        vertical-align: middle;\n    }\n\n    .dataframe tbody tr th {\n        vertical-align: top;\n    }\n\n    .dataframe thead th {\n        text-align: right;\n    }\n</style>\n<table border=\"1\" class=\"dataframe\">\n  <thead>\n    <tr style=\"text-align: right;\">\n      <th></th>\n      <th>NUMBER:</th>\n      <th>EXAMINED:</th>\n      <th>AFFECTED:</th>\n      <th>FAILED:</th>\n      <th>BYTES:</th>\n      <th>IDLE:</th>\n      <th>MEDIAW:</th>\n      <th>PROCESSES:</th>\n      <th>COMM_WAIT:</th>\n      <th>NUM_OFFSITE_VOLS:</th>\n    </tr>\n    <tr>\n      <th>START_TIME:</th>\n      <th></th>\n      <th></th>\n      <th></th>\n      <th></th>\n      <th></th>\n      <th></th>\n      <th></th>\n      <th></th>\n      <th></th>\n      <th></th>\n    </tr>\n  </thead>\n  <tbody>\n    <tr>\n      <th>2016-11-07</th>\n      <td>877622596</td>\n      <td>14766747</td>\n      <td>184971</td>\n      <td>7</td>\n      <td>1956957436159</td>\n      <td>103803</td>\n      <td>1293</td>\n      <td>444</td>\n      <td>30264.0</td>\n      <td>0.0</td>\n    </tr>\n    <tr>\n      <th>2016-11-08</th>\n      <td>933953143</td>\n      <td>14780073</td>\n      <td>217950</td>\n      <td>4</td>\n      <td>2186183757981</td>\n      <td>102577</td>\n      <td>1526</td>\n      <td>475</td>\n      <td>36669.0</td>\n      <td>0.0</td>\n    </tr>\n    <tr>\n      <th>2016-11-09</th>\n      <td>916952346</td>\n      <td>20106485</td>\n      <td>189803</td>\n      <td>3</td>\n      <td>1931205094112</td>\n      <td>102231</td>\n      <td>1614</td>\n      <td>485</td>\n      <td>30149.0</td>\n      <td>0.0</td>\n    </tr>\n    <tr>\n      <th>2016-11-10</th>\n      <td>924892730</td>\n      <td>20097703</td>\n      <td>231797</td>\n      <td>3</td>\n      <td>1889453833598</td>\n      <td>101774</td>\n      <td>1338</td>\n      <td>471</td>\n      <td>29801.0</td>\n      <td>0.0</td>\n    </tr>\n    <tr>\n      <th>2016-11-11</th>\n      <td>1512884531</td>\n      <td>20263273</td>\n      <td>330708</td>\n      <td>3</td>\n      <td>2319285138379</td>\n      <td>113758</td>\n      <td>1376</td>\n      <td>593</td>\n      <td>48012.0</td>\n      <td>0.0</td>\n    </tr>\n    <tr>\n      <th>2016-11-12</th>\n      <td>921502936</td>\n      <td>11577790</td>\n      <td>151504</td>\n      <td>3</td>\n      <td>1720366362319</td>\n      <td>99446</td>\n      <td>2194</td>\n      <td>446</td>\n      <td>22433.0</td>\n      <td>0.0</td>\n    </tr>\n    <tr>\n      <th>2016-11-13</th>\n      <td>922994403</td>\n      <td>14059516</td>\n      <td>161012</td>\n      <td>3</td>\n      <td>1752806611683</td>\n      <td>98653</td>\n      <td>1493</td>\n      <td>478</td>\n      <td>24446.0</td>\n      <td>0.0</td>\n    </tr>\n    <tr>\n      <th>2016-11-14</th>\n      <td>944676301</td>\n      <td>15332736</td>\n      <td>187930</td>\n      <td>3</td>\n      <td>1980952799805</td>\n      <td>126337</td>\n      <td>1444</td>\n      <td>482</td>\n      <td>30922.0</td>\n      <td>0.0</td>\n    </tr>\n    <tr>\n      <th>2016-11-15</th>\n      <td>961036081</td>\n      <td>14776192</td>\n      <td>223302</td>\n      <td>1</td>\n      <td>1947672625207</td>\n      <td>99486</td>\n      <td>1485</td>\n      <td>408</td>\n      <td>31628.0</td>\n      <td>0.0</td>\n    </tr>\n    <tr>\n      <th>2016-11-16</th>\n      <td>969444913</td>\n      <td>21287592</td>\n      <td>4222565</td>\n      <td>22</td>\n      <td>2332554722599</td>\n      <td>104523</td>\n      <td>1451</td>\n      <td>412</td>\n      <td>35194.0</td>\n      <td>0.0</td>\n    </tr>\n    <tr>\n      <th>2016-11-17</th>\n      <td>983160240</td>\n      <td>20200592</td>\n      <td>293798</td>\n      <td>1</td>\n      <td>1890884404962</td>\n      <td>101163</td>\n      <td>4439</td>\n      <td>402</td>\n      <td>31302.0</td>\n      <td>0.0</td>\n    </tr>\n    <tr>\n      <th>2016-11-18</th>\n      <td>1649381122</td>\n      <td>28118829</td>\n      <td>165869</td>\n      <td>43</td>\n      <td>2136102885679</td>\n      <td>112475</td>\n      <td>1336</td>\n      <td>571</td>\n      <td>32008.0</td>\n      <td>0.0</td>\n    </tr>\n    <tr>\n      <th>2016-11-19</th>\n      <td>1023411880</td>\n      <td>24092197</td>\n      <td>152100</td>\n      <td>22</td>\n      <td>1774388807848</td>\n      <td>107819</td>\n      <td>1324</td>\n      <td>376</td>\n      <td>23487.0</td>\n      <td>0.0</td>\n    </tr>\n    <tr>\n      <th>2016-11-20</th>\n      <td>1037658441</td>\n      <td>24099875</td>\n      <td>149476</td>\n      <td>22</td>\n      <td>1794374942100</td>\n      <td>108344</td>\n      <td>1373</td>\n      <td>378</td>\n      <td>22090.0</td>\n      <td>0.0</td>\n    </tr>\n    <tr>\n      <th>2016-11-21</th>\n      <td>1063960153</td>\n      <td>24133723</td>\n      <td>161489</td>\n      <td>22</td>\n      <td>1915586515870</td>\n      <td>104044</td>\n      <td>1521</td>\n      <td>421</td>\n      <td>28314.0</td>\n      <td>0.0</td>\n    </tr>\n    <tr>\n      <th>2016-11-22</th>\n      <td>1099069928</td>\n      <td>24145572</td>\n      <td>169801</td>\n      <td>22</td>\n      <td>2152853062572</td>\n      <td>107514</td>\n      <td>1403</td>\n      <td>423</td>\n      <td>33088.0</td>\n      <td>0.0</td>\n    </tr>\n    <tr>\n      <th>2016-11-23</th>\n      <td>1096264295</td>\n      <td>24162235</td>\n      <td>165795</td>\n      <td>22</td>\n      <td>1963544444572</td>\n      <td>104114</td>\n      <td>1311</td>\n      <td>421</td>\n      <td>28775.0</td>\n      <td>0.0</td>\n    </tr>\n    <tr>\n      <th>2016-11-24</th>\n      <td>1114357367</td>\n      <td>18892552</td>\n      <td>164489</td>\n      <td>26</td>\n      <td>1968893844260</td>\n      <td>104485</td>\n      <td>1293</td>\n      <td>431</td>\n      <td>27283.0</td>\n      <td>0.0</td>\n    </tr>\n    <tr>\n      <th>2016-11-25</th>\n      <td>1844784406</td>\n      <td>18893510</td>\n      <td>156673</td>\n      <td>22</td>\n      <td>2071912513310</td>\n      <td>110028</td>\n      <td>1242</td>\n      <td>562</td>\n      <td>29585.0</td>\n      <td>0.0</td>\n    </tr>\n    <tr>\n      <th>2016-11-26</th>\n      <td>1154554333</td>\n      <td>15658538</td>\n      <td>139149</td>\n      <td>28</td>\n      <td>1862411945732</td>\n      <td>99066</td>\n      <td>1249</td>\n      <td>435</td>\n      <td>24347.0</td>\n      <td>0.0</td>\n    </tr>\n    <tr>\n      <th>2016-11-27</th>\n      <td>1163690659</td>\n      <td>15666079</td>\n      <td>139602</td>\n      <td>22</td>\n      <td>1787670970108</td>\n      <td>96079</td>\n      <td>1542</td>\n      <td>367</td>\n      <td>20975.0</td>\n      <td>0.0</td>\n    </tr>\n    <tr>\n      <th>2016-11-28</th>\n      <td>1185961314</td>\n      <td>18924925</td>\n      <td>162249</td>\n      <td>23</td>\n      <td>1989061467850</td>\n      <td>99852</td>\n      <td>1369</td>\n      <td>422</td>\n      <td>28600.0</td>\n      <td>0.0</td>\n    </tr>\n    <tr>\n      <th>2016-11-29</th>\n      <td>1236471009</td>\n      <td>18944687</td>\n      <td>167615</td>\n      <td>28</td>\n      <td>1976046021410</td>\n      <td>105885</td>\n      <td>1497</td>\n      <td>464</td>\n      <td>29874.0</td>\n      <td>0.0</td>\n    </tr>\n    <tr>\n      <th>2016-11-30</th>\n      <td>1259984470</td>\n      <td>19290038</td>\n      <td>356707</td>\n      <td>28</td>\n      <td>2005547488430</td>\n      <td>107254</td>\n      <td>1327</td>\n      <td>518</td>\n      <td>30340.0</td>\n      <td>0.0</td>\n    </tr>\n    <tr>\n      <th>2016-12-01</th>\n      <td>1288351823</td>\n      <td>19375531</td>\n      <td>243054</td>\n      <td>31</td>\n      <td>2001852769251</td>\n      <td>105593</td>\n      <td>1225</td>\n      <td>478</td>\n      <td>33914.0</td>\n      <td>0.0</td>\n    </tr>\n    <tr>\n      <th>2016-12-02</th>\n      <td>2226184479</td>\n      <td>19539172</td>\n      <td>385440</td>\n      <td>3</td>\n      <td>2113658028033</td>\n      <td>119454</td>\n      <td>1241</td>\n      <td>671</td>\n      <td>29830.0</td>\n      <td>0.0</td>\n    </tr>\n    <tr>\n      <th>2016-12-03</th>\n      <td>1311612099</td>\n      <td>16276171</td>\n      <td>138040</td>\n      <td>4</td>\n      <td>1824735077826</td>\n      <td>100808</td>\n      <td>1221</td>\n      <td>442</td>\n      <td>24349.0</td>\n      <td>0.0</td>\n    </tr>\n    <tr>\n      <th>2016-12-04</th>\n      <td>1320111300</td>\n      <td>22017208</td>\n      <td>174379</td>\n      <td>3</td>\n      <td>1830635407578</td>\n      <td>111980</td>\n      <td>1214</td>\n      <td>464</td>\n      <td>26531.0</td>\n      <td>0.0</td>\n    </tr>\n    <tr>\n      <th>2016-12-05</th>\n      <td>1343596860</td>\n      <td>19113308</td>\n      <td>223586</td>\n      <td>4</td>\n      <td>3400947715518</td>\n      <td>103453</td>\n      <td>13094</td>\n      <td>496</td>\n      <td>45837.0</td>\n      <td>0.0</td>\n    </tr>\n  </tbody>\n</table>\n</div>"
                    },
                    "metadata": {}
                }
            ]
        },
        {
            "metadata": {},
            "cell_type": "markdown",
            "source": "### Covert bytes into terabytes"
        },
        {
            "metadata": {},
            "cell_type": "code",
            "source": "tb_dbkup = dbkup['BYTES:']/(1e+12)",
            "execution_count": 20,
            "outputs": []
        },
        {
            "metadata": {},
            "cell_type": "code",
            "source": "tb_dbkup",
            "execution_count": 21,
            "outputs": [
                {
                    "output_type": "execute_result",
                    "execution_count": 21,
                    "data": {
                        "text/plain": "START_TIME:\n2016-11-07    1.956957\n2016-11-08    2.186184\n2016-11-09    1.931205\n2016-11-10    1.889454\n2016-11-11    2.319285\n2016-11-12    1.720366\n2016-11-13    1.752807\n2016-11-14    1.980953\n2016-11-15    1.947673\n2016-11-16    2.332555\n2016-11-17    1.890884\n2016-11-18    2.136103\n2016-11-19    1.774389\n2016-11-20    1.794375\n2016-11-21    1.915587\n2016-11-22    2.152853\n2016-11-23    1.963544\n2016-11-24    1.968894\n2016-11-25    2.071913\n2016-11-26    1.862412\n2016-11-27    1.787671\n2016-11-28    1.989061\n2016-11-29    1.976046\n2016-11-30    2.005547\n2016-12-01    2.001853\n2016-12-02    2.113658\n2016-12-03    1.824735\n2016-12-04    1.830635\n2016-12-05    3.400948\nName: BYTES:, dtype: float64"
                    },
                    "metadata": {}
                }
            ]
        },
        {
            "metadata": {},
            "cell_type": "markdown",
            "source": "### This will trim the daily backup report to 60 days or less"
        },
        {
            "metadata": {},
            "cell_type": "code",
            "source": "tb_dbkup.shape[0]",
            "execution_count": 22,
            "outputs": [
                {
                    "output_type": "execute_result",
                    "execution_count": 22,
                    "data": {
                        "text/plain": "29"
                    },
                    "metadata": {}
                }
            ]
        },
        {
            "metadata": {},
            "cell_type": "code",
            "source": "if tb_dbkup.shape[0]>60:\n    tb_dbkup_sub = tb_dbkup.shape[0] - 60\n    tb_dbkup = tb_dbkup.tail(-tb_dbkup_sub)",
            "execution_count": 23,
            "outputs": []
        },
        {
            "metadata": {},
            "cell_type": "code",
            "source": "tb_dbkup",
            "execution_count": 24,
            "outputs": [
                {
                    "output_type": "execute_result",
                    "execution_count": 24,
                    "data": {
                        "text/plain": "START_TIME:\n2016-11-07    1.956957\n2016-11-08    2.186184\n2016-11-09    1.931205\n2016-11-10    1.889454\n2016-11-11    2.319285\n2016-11-12    1.720366\n2016-11-13    1.752807\n2016-11-14    1.980953\n2016-11-15    1.947673\n2016-11-16    2.332555\n2016-11-17    1.890884\n2016-11-18    2.136103\n2016-11-19    1.774389\n2016-11-20    1.794375\n2016-11-21    1.915587\n2016-11-22    2.152853\n2016-11-23    1.963544\n2016-11-24    1.968894\n2016-11-25    2.071913\n2016-11-26    1.862412\n2016-11-27    1.787671\n2016-11-28    1.989061\n2016-11-29    1.976046\n2016-11-30    2.005547\n2016-12-01    2.001853\n2016-12-02    2.113658\n2016-12-03    1.824735\n2016-12-04    1.830635\n2016-12-05    3.400948\nName: BYTES:, dtype: float64"
                    },
                    "metadata": {}
                }
            ]
        },
        {
            "metadata": {},
            "cell_type": "markdown",
            "source": "### Sort and do a daily summary in the dataframe using the ACTIVITY columm using RESTORE as the search parameter.  "
        },
        {
            "metadata": {},
            "cell_type": "code",
            "source": "drestore = df[df['ACTIVITY:'].str.match('RESTORE')].groupby('START_TIME:').sum()",
            "execution_count": 25,
            "outputs": []
        },
        {
            "metadata": {},
            "cell_type": "code",
            "source": "drestore",
            "execution_count": 26,
            "outputs": [
                {
                    "output_type": "execute_result",
                    "execution_count": 26,
                    "data": {
                        "text/plain": "             NUMBER:  EXAMINED:  AFFECTED:  FAILED:       BYTES:  IDLE:  \\\nSTART_TIME:                                                               \n2016-11-10   3581618          0        108        0    965450550   1084   \n2016-11-11   3597142          0        624        0   1529199108   2721   \n2016-11-30   4699819          0       1940        0  13284631508   1014   \n\n             MEDIAW:  PROCESSES:  COMM_WAIT:  NUM_OFFSITE_VOLS:  \nSTART_TIME:                                                      \n2016-11-10       171           1        33.0                0.0  \n2016-11-11       151           1       116.0                0.0  \n2016-11-30        69           1       270.0                0.0  ",
                        "text/html": "<div>\n<style scoped>\n    .dataframe tbody tr th:only-of-type {\n        vertical-align: middle;\n    }\n\n    .dataframe tbody tr th {\n        vertical-align: top;\n    }\n\n    .dataframe thead th {\n        text-align: right;\n    }\n</style>\n<table border=\"1\" class=\"dataframe\">\n  <thead>\n    <tr style=\"text-align: right;\">\n      <th></th>\n      <th>NUMBER:</th>\n      <th>EXAMINED:</th>\n      <th>AFFECTED:</th>\n      <th>FAILED:</th>\n      <th>BYTES:</th>\n      <th>IDLE:</th>\n      <th>MEDIAW:</th>\n      <th>PROCESSES:</th>\n      <th>COMM_WAIT:</th>\n      <th>NUM_OFFSITE_VOLS:</th>\n    </tr>\n    <tr>\n      <th>START_TIME:</th>\n      <th></th>\n      <th></th>\n      <th></th>\n      <th></th>\n      <th></th>\n      <th></th>\n      <th></th>\n      <th></th>\n      <th></th>\n      <th></th>\n    </tr>\n  </thead>\n  <tbody>\n    <tr>\n      <th>2016-11-10</th>\n      <td>3581618</td>\n      <td>0</td>\n      <td>108</td>\n      <td>0</td>\n      <td>965450550</td>\n      <td>1084</td>\n      <td>171</td>\n      <td>1</td>\n      <td>33.0</td>\n      <td>0.0</td>\n    </tr>\n    <tr>\n      <th>2016-11-11</th>\n      <td>3597142</td>\n      <td>0</td>\n      <td>624</td>\n      <td>0</td>\n      <td>1529199108</td>\n      <td>2721</td>\n      <td>151</td>\n      <td>1</td>\n      <td>116.0</td>\n      <td>0.0</td>\n    </tr>\n    <tr>\n      <th>2016-11-30</th>\n      <td>4699819</td>\n      <td>0</td>\n      <td>1940</td>\n      <td>0</td>\n      <td>13284631508</td>\n      <td>1014</td>\n      <td>69</td>\n      <td>1</td>\n      <td>270.0</td>\n      <td>0.0</td>\n    </tr>\n  </tbody>\n</table>\n</div>"
                    },
                    "metadata": {}
                }
            ]
        },
        {
            "metadata": {},
            "cell_type": "code",
            "source": "tb_drestore = drestore['BYTES:']/(1e+12)",
            "execution_count": 27,
            "outputs": []
        },
        {
            "metadata": {},
            "cell_type": "code",
            "source": "tb_drestore",
            "execution_count": 28,
            "outputs": [
                {
                    "output_type": "execute_result",
                    "execution_count": 28,
                    "data": {
                        "text/plain": "START_TIME:\n2016-11-10    0.000965\n2016-11-11    0.001529\n2016-11-30    0.013285\nName: BYTES:, dtype: float64"
                    },
                    "metadata": {}
                }
            ]
        },
        {
            "metadata": {},
            "cell_type": "markdown",
            "source": "### This will trim the daily restore report to 60 days or less"
        },
        {
            "metadata": {},
            "cell_type": "code",
            "source": "tb_drestore.shape[0]",
            "execution_count": 29,
            "outputs": [
                {
                    "output_type": "execute_result",
                    "execution_count": 29,
                    "data": {
                        "text/plain": "3"
                    },
                    "metadata": {}
                }
            ]
        },
        {
            "metadata": {},
            "cell_type": "code",
            "source": "if tb_dbkup.shape[0]>60:\n    tb_dbkup_sub = tb_dbkup.shape[0] - 60\n    tb_dbkup = tb_dbkup.tail(-tb_dbkup_sub)",
            "execution_count": 30,
            "outputs": []
        },
        {
            "metadata": {},
            "cell_type": "code",
            "source": "tb_drestore",
            "execution_count": 31,
            "outputs": [
                {
                    "output_type": "execute_result",
                    "execution_count": 31,
                    "data": {
                        "text/plain": "START_TIME:\n2016-11-10    0.000965\n2016-11-11    0.001529\n2016-11-30    0.013285\nName: BYTES:, dtype: float64"
                    },
                    "metadata": {}
                }
            ]
        },
        {
            "metadata": {},
            "cell_type": "markdown",
            "source": "### Using a line graph to plot the TB per day backup by this Spectrum Protect instance"
        },
        {
            "metadata": {},
            "cell_type": "code",
            "source": "tb_dbkup.plot(kind='bar', color='green' , linewidth=3.0 , figsize=(16,8))\n\nplt.title(\"Spectrum Protect daily backup in TB\", fontsize=24, color='blue')\nplt.xlabel(\"Date\", fontsize=16, color='red')\nplt.ylabel(\"TB\", fontsize=16, color='red')",
            "execution_count": 32,
            "outputs": [
                {
                    "output_type": "execute_result",
                    "execution_count": 32,
                    "data": {
                        "text/plain": "Text(0, 0.5, 'TB')"
                    },
                    "metadata": {}
                },
                {
                    "output_type": "display_data",
                    "data": {
                        "text/plain": "<Figure size 1152x576 with 1 Axes>",
                        "image/png": "[encoded data removed]"
                    },
                    "metadata": {
                        "needs_background": "light"
                    }
                }
            ]
        },
        {
            "metadata": {},
            "cell_type": "markdown",
            "source": "### Using a line graph to plot the TB per day restore by this Spectrum Protect instance"
        },
        {
            "metadata": {},
            "cell_type": "code",
            "source": "tb_drestore.plot(kind='bar', color='green' , linewidth=3.0 , figsize=(16,8))\n\nplt.title(\"Spectrum Protect daily restore in TB\", fontsize=24, color='blue')\nplt.xlabel(\"Date\", fontsize=16, color='red')\nplt.ylabel(\"TB\", fontsize=16, color='red')",
            "execution_count": 33,
            "outputs": [
                {
                    "output_type": "execute_result",
                    "execution_count": 33,
                    "data": {
                        "text/plain": "Text(0, 0.5, 'TB')"
                    },
                    "metadata": {}
                },
                {
                    "output_type": "display_data",
                    "data": {
                        "text/plain": "<Figure size 1152x576 with 1 Axes>",
                        "image/png": "[encoded data removed]"
                    },
                    "metadata": {
                        "needs_background": "light"
                    }
                }
            ]
        },
        {
            "metadata": {},
            "cell_type": "code",
            "source": "",
            "execution_count": null,
            "outputs": []
        },
        {
            "metadata": {},
            "cell_type": "code",
            "source": "",
            "execution_count": null,
            "outputs": []
        }
    ],
    "metadata": {
        "kernelspec": {
            "name": "python3",
            "display_name": "Python 3.7",
            "language": "python"
        },
        "language_info": {
            "name": "python",
            "version": "3.7.9",
            "mimetype": "text/x-python",
            "codemirror_mode": {
                "name": "ipython",
                "version": 3
            },
            "pygments_lexer": "ipython3",
            "nbconvert_exporter": "python",
            "file_extension": ".py"
        }
    },
    "nbformat": 4,
    "nbformat_minor": 1
}