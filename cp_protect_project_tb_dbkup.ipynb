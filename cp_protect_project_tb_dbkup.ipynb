{
    "cells": [
        {
            "metadata": {},
            "cell_type": "markdown",
            "source": "# Spectrum Protect Summary Table Analysis\n\nCreated by: Robert Hartwig\nLast edited:  November 24, 2020\nVerison: 1.0"
        },
        {
            "metadata": {},
            "cell_type": "code",
            "source": "import pandas as pd\nimport numpy as np\nimport matplotlib.pyplot as plt",
            "execution_count": 1,
            "outputs": []
        },
        {
            "metadata": {},
            "cell_type": "markdown",
            "source": "### Download a sample Spectrum Protect summary table from IBM Cloud bucket."
        },
        {
            "metadata": {},
            "cell_type": "code",
            "source": "!wget -O summary.txt https://cp-protect-project.s3.us-east.cloud-object-storage.appdomain.cloud/summary.txt",
            "execution_count": 2,
            "outputs": [
                {
                    "output_type": "stream",
                    "text": "--2020-11-25 03:25:45--  https://cp-protect-project.s3.us-east.cloud-object-storage.appdomain.cloud/summary.txt\nResolving cp-protect-project.s3.us-east.cloud-object-storage.appdomain.cloud (cp-protect-project.s3.us-east.cloud-object-storage.appdomain.cloud)... 169.63.118.98\nConnecting to cp-protect-project.s3.us-east.cloud-object-storage.appdomain.cloud (cp-protect-project.s3.us-east.cloud-object-storage.appdomain.cloud)|169.63.118.98|:443... connected.\nHTTP request sent, awaiting response... 200 OK\nLength: 4569083 (4.4M) [application/octet-stream]\nSaving to: \u2018summary.txt\u2019\n\n100%[======================================>] 4,569,083    559KB/s   in 6.8s   \n\n2020-11-25 03:25:52 (655 KB/s) - \u2018summary.txt\u2019 saved [4569083/4569083]\n\n",
                    "name": "stdout"
                }
            ]
        },
        {
            "metadata": {},
            "cell_type": "markdown",
            "source": "### Load the summary.txt file into a dataframe.  Skipping the first 9 rows of the summary.txt as it is just comments."
        },
        {
            "metadata": {},
            "cell_type": "code",
            "source": "df = pd.read_csv('summary.txt', skiprows=9, header=None)",
            "execution_count": 3,
            "outputs": []
        },
        {
            "metadata": {},
            "cell_type": "markdown",
            "source": "### Naming to the colums as using the following IBM Knowledge Center Spectrum Protect 7.1 page.\n\nhttps://www.ibm.com/support/knowledgecenter/SSGSG7_7.1.0/com.ibm.itsm.srv.doc/t_sql_activity_summ_tbl_querying.html"
        },
        {
            "metadata": {},
            "cell_type": "code",
            "source": "df.columns = [\"START_TIME:\", \"END_TIME:\", \"ACTIVITY:\", \"NUMBER:\", \"ENTITY:\", \"COMMMETH:\", \"ADDRESS:\", \"SCHEDULE_NAME:\", \"EXAMINED:\", \"AFFECTED:\", \"FAILED:\", \"BYTES:\", \"IDLE:\", \"MEDIAW:\", \"PROCESSES:\", \"SUCCESSFUL:\", \"VOLUME_NAME:\", \"DRIVE_NAME:\", \"LIBRARY_NAME:\", \"LAST_USE:\", \"COMM_WAIT:\", \"NUM_OFFSITE_VOLS:\"]",
            "execution_count": 4,
            "outputs": []
        },
        {
            "metadata": {},
            "cell_type": "markdown",
            "source": "### Get the number of rows and colums in the dataframe"
        },
        {
            "metadata": {},
            "cell_type": "code",
            "source": "df.shape",
            "execution_count": 5,
            "outputs": [
                {
                    "output_type": "execute_result",
                    "execution_count": 5,
                    "data": {
                        "text/plain": "(35910, 22)"
                    },
                    "metadata": {}
                }
            ]
        },
        {
            "metadata": {},
            "cell_type": "code",
            "source": "df.head()",
            "execution_count": 6,
            "outputs": [
                {
                    "output_type": "execute_result",
                    "execution_count": 6,
                    "data": {
                        "text/plain": "                  START_TIME:                   END_TIME:       ACTIVITY:  \\\n0  2016-11-13 06:27:13.000000  2016-11-13 06:27:13.000000  POOLPRIMUTILGB   \n1  2016-11-13 07:00:32.000000  2016-11-13 07:59:50.000000      TAPE MOUNT   \n2  2016-11-13 07:00:07.000000  2016-11-13 07:55:58.000000  STGPOOL BACKUP   \n3  2016-11-13 08:35:14.000000  2016-11-13 08:35:14.000000  POOLPRIMUTILGB   \n4  2016-11-13 07:31:13.000000  2016-11-13 07:31:13.000000  POOLPRIMUTILGB   \n\n   NUMBER:                     ENTITY: COMMMETH: ADDRESS: SCHEDULE_NAME:  \\\n0        1                 TEST_BACKUP       NaN      NaN            NaN   \n1        0                         NaN       NaN      NaN            NaN   \n2     4616  VE_BKPOOL -> COPYPOOL_LTO5       NaN      NaN    MAINTENANCE   \n3        1                TEST_ARCHIVE       NaN      NaN            NaN   \n4        1         NHS_ARCHIVE_PRIMARY       NaN      NaN            NaN   \n\n   EXAMINED:  AFFECTED:  ...  IDLE:  MEDIAW:  PROCESSES:  SUCCESSFUL:  \\\n0          0          0  ...      0        0           0          YES   \n1          0          0  ...      0        0           0          YES   \n2      23938      23938  ...      0       28           1          YES   \n3          0          0  ...      0        0           0          YES   \n4          0          0  ...      0        0           0          YES   \n\n   VOLUME_NAME:                DRIVE_NAME: LIBRARY_NAME: LAST_USE: COMM_WAIT:  \\\n0           NaN                        NaN           NaN       NaN        0.0   \n1      C00890L5  DRIVE10 (/dev/TDRIVE-R10)       3584LIB      Data        0.0   \n2           NaN                        NaN           NaN       NaN        0.0   \n3           NaN                        NaN           NaN       NaN        0.0   \n4           NaN                        NaN           NaN       NaN        0.0   \n\n  NUM_OFFSITE_VOLS:  \n0               NaN  \n1               NaN  \n2               NaN  \n3               NaN  \n4               NaN  \n\n[5 rows x 22 columns]",
                        "text/html": "<div>\n<style scoped>\n    .dataframe tbody tr th:only-of-type {\n        vertical-align: middle;\n    }\n\n    .dataframe tbody tr th {\n        vertical-align: top;\n    }\n\n    .dataframe thead th {\n        text-align: right;\n    }\n</style>\n<table border=\"1\" class=\"dataframe\">\n  <thead>\n    <tr style=\"text-align: right;\">\n      <th></th>\n      <th>START_TIME:</th>\n      <th>END_TIME:</th>\n      <th>ACTIVITY:</th>\n      <th>NUMBER:</th>\n      <th>ENTITY:</th>\n      <th>COMMMETH:</th>\n      <th>ADDRESS:</th>\n      <th>SCHEDULE_NAME:</th>\n      <th>EXAMINED:</th>\n      <th>AFFECTED:</th>\n      <th>...</th>\n      <th>IDLE:</th>\n      <th>MEDIAW:</th>\n      <th>PROCESSES:</th>\n      <th>SUCCESSFUL:</th>\n      <th>VOLUME_NAME:</th>\n      <th>DRIVE_NAME:</th>\n      <th>LIBRARY_NAME:</th>\n      <th>LAST_USE:</th>\n      <th>COMM_WAIT:</th>\n      <th>NUM_OFFSITE_VOLS:</th>\n    </tr>\n  </thead>\n  <tbody>\n    <tr>\n      <th>0</th>\n      <td>2016-11-13 06:27:13.000000</td>\n      <td>2016-11-13 06:27:13.000000</td>\n      <td>POOLPRIMUTILGB</td>\n      <td>1</td>\n      <td>TEST_BACKUP</td>\n      <td>NaN</td>\n      <td>NaN</td>\n      <td>NaN</td>\n      <td>0</td>\n      <td>0</td>\n      <td>...</td>\n      <td>0</td>\n      <td>0</td>\n      <td>0</td>\n      <td>YES</td>\n      <td>NaN</td>\n      <td>NaN</td>\n      <td>NaN</td>\n      <td>NaN</td>\n      <td>0.0</td>\n      <td>NaN</td>\n    </tr>\n    <tr>\n      <th>1</th>\n      <td>2016-11-13 07:00:32.000000</td>\n      <td>2016-11-13 07:59:50.000000</td>\n      <td>TAPE MOUNT</td>\n      <td>0</td>\n      <td>NaN</td>\n      <td>NaN</td>\n      <td>NaN</td>\n      <td>NaN</td>\n      <td>0</td>\n      <td>0</td>\n      <td>...</td>\n      <td>0</td>\n      <td>0</td>\n      <td>0</td>\n      <td>YES</td>\n      <td>C00890L5</td>\n      <td>DRIVE10 (/dev/TDRIVE-R10)</td>\n      <td>3584LIB</td>\n      <td>Data</td>\n      <td>0.0</td>\n      <td>NaN</td>\n    </tr>\n    <tr>\n      <th>2</th>\n      <td>2016-11-13 07:00:07.000000</td>\n      <td>2016-11-13 07:55:58.000000</td>\n      <td>STGPOOL BACKUP</td>\n      <td>4616</td>\n      <td>VE_BKPOOL -&gt; COPYPOOL_LTO5</td>\n      <td>NaN</td>\n      <td>NaN</td>\n      <td>MAINTENANCE</td>\n      <td>23938</td>\n      <td>23938</td>\n      <td>...</td>\n      <td>0</td>\n      <td>28</td>\n      <td>1</td>\n      <td>YES</td>\n      <td>NaN</td>\n      <td>NaN</td>\n      <td>NaN</td>\n      <td>NaN</td>\n      <td>0.0</td>\n      <td>NaN</td>\n    </tr>\n    <tr>\n      <th>3</th>\n      <td>2016-11-13 08:35:14.000000</td>\n      <td>2016-11-13 08:35:14.000000</td>\n      <td>POOLPRIMUTILGB</td>\n      <td>1</td>\n      <td>TEST_ARCHIVE</td>\n      <td>NaN</td>\n      <td>NaN</td>\n      <td>NaN</td>\n      <td>0</td>\n      <td>0</td>\n      <td>...</td>\n      <td>0</td>\n      <td>0</td>\n      <td>0</td>\n      <td>YES</td>\n      <td>NaN</td>\n      <td>NaN</td>\n      <td>NaN</td>\n      <td>NaN</td>\n      <td>0.0</td>\n      <td>NaN</td>\n    </tr>\n    <tr>\n      <th>4</th>\n      <td>2016-11-13 07:31:13.000000</td>\n      <td>2016-11-13 07:31:13.000000</td>\n      <td>POOLPRIMUTILGB</td>\n      <td>1</td>\n      <td>NHS_ARCHIVE_PRIMARY</td>\n      <td>NaN</td>\n      <td>NaN</td>\n      <td>NaN</td>\n      <td>0</td>\n      <td>0</td>\n      <td>...</td>\n      <td>0</td>\n      <td>0</td>\n      <td>0</td>\n      <td>YES</td>\n      <td>NaN</td>\n      <td>NaN</td>\n      <td>NaN</td>\n      <td>NaN</td>\n      <td>0.0</td>\n      <td>NaN</td>\n    </tr>\n  </tbody>\n</table>\n<p>5 rows \u00d7 22 columns</p>\n</div>"
                    },
                    "metadata": {}
                }
            ]
        },
        {
            "metadata": {},
            "cell_type": "code",
            "source": "list(df.columns)",
            "execution_count": 7,
            "outputs": [
                {
                    "output_type": "execute_result",
                    "execution_count": 7,
                    "data": {
                        "text/plain": "['START_TIME:',\n 'END_TIME:',\n 'ACTIVITY:',\n 'NUMBER:',\n 'ENTITY:',\n 'COMMMETH:',\n 'ADDRESS:',\n 'SCHEDULE_NAME:',\n 'EXAMINED:',\n 'AFFECTED:',\n 'FAILED:',\n 'BYTES:',\n 'IDLE:',\n 'MEDIAW:',\n 'PROCESSES:',\n 'SUCCESSFUL:',\n 'VOLUME_NAME:',\n 'DRIVE_NAME:',\n 'LIBRARY_NAME:',\n 'LAST_USE:',\n 'COMM_WAIT:',\n 'NUM_OFFSITE_VOLS:']"
                    },
                    "metadata": {}
                }
            ]
        },
        {
            "metadata": {},
            "cell_type": "markdown",
            "source": "### Convert the START_TIME and END_TIME from string to datetime format"
        },
        {
            "metadata": {},
            "cell_type": "code",
            "source": "df['START_TIME:'].astype('datetime64')",
            "execution_count": 8,
            "outputs": [
                {
                    "output_type": "execute_result",
                    "execution_count": 8,
                    "data": {
                        "text/plain": "0       2016-11-13 06:27:13\n1       2016-11-13 07:00:32\n2       2016-11-13 07:00:07\n3       2016-11-13 08:35:14\n4       2016-11-13 07:31:13\n5       2016-11-13 07:00:07\n6       2016-11-13 08:35:14\n7       2016-11-13 08:35:14\n8       2016-11-13 07:31:13\n9       2016-11-13 07:31:13\n10      2016-11-13 08:35:14\n11      2016-11-13 08:35:14\n12      2016-11-13 07:31:13\n13      2016-11-13 08:35:14\n14      2016-11-13 07:31:13\n15      2016-11-13 07:31:13\n16      2016-11-13 08:35:14\n17      2016-11-13 08:35:14\n18      2016-11-13 07:31:13\n19      2016-11-13 08:35:14\n20      2016-11-13 08:35:14\n21      2016-11-13 07:31:13\n22      2016-11-13 08:35:14\n23      2016-11-13 07:31:13\n24      2016-11-13 07:31:13\n25      2016-11-13 08:35:14\n26      2016-11-13 07:31:13\n27      2016-11-13 07:24:38\n28      2016-11-13 07:24:34\n29      2016-11-13 07:27:52\n                ...        \n35880   2016-12-06 15:49:17\n35881   2016-12-06 15:37:07\n35882   2016-12-06 15:49:28\n35883   2016-12-06 15:49:39\n35884   2016-12-06 15:49:49\n35885   2016-12-06 15:50:00\n35886   2016-12-06 15:51:37\n35887   2016-12-06 15:51:37\n35888   2016-12-06 15:37:07\n35889   2016-12-06 15:51:37\n35890   2016-12-06 15:51:37\n35891   2016-12-06 15:51:37\n35892   2016-12-06 15:37:07\n35893   2016-12-06 15:51:37\n35894   2016-12-06 15:37:07\n35895   2016-12-06 15:51:37\n35896   2016-12-06 15:51:37\n35897   2016-12-06 15:37:07\n35898   2016-12-06 15:37:08\n35899   2016-12-06 15:51:37\n35900   2016-12-06 15:37:07\n35901   2016-12-06 15:37:08\n35902   2016-12-06 15:37:08\n35903   2016-12-06 15:51:37\n35904   2016-12-06 15:51:37\n35905   2016-12-06 15:37:07\n35906   2016-12-06 15:37:08\n35907   2016-12-06 15:37:08\n35908   2016-12-06 15:51:37\n35909   2016-12-06 15:37:08\nName: START_TIME:, Length: 35910, dtype: datetime64[ns]"
                    },
                    "metadata": {}
                }
            ]
        },
        {
            "metadata": {},
            "cell_type": "markdown",
            "source": "### Format the END_TIME field"
        },
        {
            "metadata": {},
            "cell_type": "code",
            "source": "df['END_TIME:'].astype('datetime64')",
            "execution_count": 9,
            "outputs": [
                {
                    "output_type": "execute_result",
                    "execution_count": 9,
                    "data": {
                        "text/plain": "0       2016-11-13 06:27:13\n1       2016-11-13 07:59:50\n2       2016-11-13 07:55:58\n3       2016-11-13 08:35:14\n4       2016-11-13 07:31:13\n5       2016-11-13 07:55:58\n6       2016-11-13 08:35:14\n7       2016-11-13 08:35:14\n8       2016-11-13 07:31:13\n9       2016-11-13 07:31:13\n10      2016-11-13 08:35:14\n11      2016-11-13 08:35:14\n12      2016-11-13 07:31:13\n13      2016-11-13 08:35:14\n14      2016-11-13 07:31:13\n15      2016-11-13 07:31:13\n16      2016-11-13 08:35:14\n17      2016-11-13 08:35:14\n18      2016-11-13 07:31:13\n19      2016-11-13 08:35:14\n20      2016-11-13 08:35:14\n21      2016-11-13 07:31:13\n22      2016-11-13 08:35:14\n23      2016-11-13 07:31:13\n24      2016-11-13 07:31:13\n25      2016-11-13 08:35:14\n26      2016-11-13 07:31:13\n27      2016-11-13 07:30:22\n28      2016-11-13 07:30:04\n29      2016-11-13 07:27:53\n                ...        \n35880   2016-12-06 15:49:18\n35881   2016-12-06 15:37:07\n35882   2016-12-06 15:49:29\n35883   2016-12-06 15:49:40\n35884   2016-12-06 15:49:50\n35885   2016-12-06 15:50:01\n35886   2016-12-06 15:51:37\n35887   2016-12-06 15:51:37\n35888   2016-12-06 15:37:07\n35889   2016-12-06 15:51:37\n35890   2016-12-06 15:51:37\n35891   2016-12-06 15:51:37\n35892   2016-12-06 15:37:07\n35893   2016-12-06 15:51:37\n35894   2016-12-06 15:37:07\n35895   2016-12-06 15:51:37\n35896   2016-12-06 15:51:37\n35897   2016-12-06 15:37:08\n35898   2016-12-06 15:37:08\n35899   2016-12-06 15:51:37\n35900   2016-12-06 15:37:08\n35901   2016-12-06 15:37:08\n35902   2016-12-06 15:37:08\n35903   2016-12-06 15:51:37\n35904   2016-12-06 15:51:37\n35905   2016-12-06 15:37:08\n35906   2016-12-06 15:37:08\n35907   2016-12-06 15:37:08\n35908   2016-12-06 15:51:37\n35909   2016-12-06 15:37:08\nName: END_TIME:, Length: 35910, dtype: datetime64[ns]"
                    },
                    "metadata": {}
                }
            ]
        },
        {
            "metadata": {},
            "cell_type": "markdown",
            "source": "### Making sure the BYTES column is an integer so to calculate the sum of the daily bytes"
        },
        {
            "metadata": {},
            "cell_type": "code",
            "source": "df['BYTES:'].astype('int64')",
            "execution_count": 10,
            "outputs": [
                {
                    "output_type": "execute_result",
                    "execution_count": 10,
                    "data": {
                        "text/plain": "0                   0\n1                   0\n2        218545831936\n3                   0\n4                 110\n5                   0\n6                 110\n7                  16\n8                7110\n9                 110\n10                  0\n11                  0\n12                  0\n13                  0\n14                  0\n15                 16\n16                  0\n17             265069\n18             271776\n19             272317\n20               7110\n21               1395\n22               1395\n23                  0\n24              68335\n25                  0\n26              69476\n27                  0\n28                  0\n29                  0\n             ...     \n35880         5821594\n35881               0\n35882         5476720\n35883        13192514\n35884        13940478\n35885          274548\n35886           69476\n35887           68336\n35888               0\n35889               0\n35890              45\n35891          276962\n35892               0\n35893               0\n35894               0\n35895               0\n35896             110\n35897               0\n35898               0\n35899             110\n35900               0\n35901               0\n35902               0\n35903          269335\n35904               0\n35905               0\n35906               0\n35907               0\n35908               0\n35909               0\nName: BYTES:, Length: 35910, dtype: int64"
                    },
                    "metadata": {}
                }
            ]
        },
        {
            "metadata": {},
            "cell_type": "markdown",
            "source": "### Use the Pandas dt.normalize to format the date & time to calculate daily sums"
        },
        {
            "metadata": {},
            "cell_type": "code",
            "source": "df['START_TIME:'] = pd.to_datetime(df['START_TIME:']).dt.normalize()",
            "execution_count": 11,
            "outputs": []
        },
        {
            "metadata": {},
            "cell_type": "code",
            "source": "df['END_TIME:'] = pd.to_datetime(df['END_TIME:']).dt.normalize()",
            "execution_count": 12,
            "outputs": []
        },
        {
            "metadata": {},
            "cell_type": "code",
            "source": "df.head()",
            "execution_count": 13,
            "outputs": [
                {
                    "output_type": "execute_result",
                    "execution_count": 13,
                    "data": {
                        "text/plain": "  START_TIME:  END_TIME:       ACTIVITY:  NUMBER:                     ENTITY:  \\\n0  2016-11-13 2016-11-13  POOLPRIMUTILGB        1                 TEST_BACKUP   \n1  2016-11-13 2016-11-13      TAPE MOUNT        0                         NaN   \n2  2016-11-13 2016-11-13  STGPOOL BACKUP     4616  VE_BKPOOL -> COPYPOOL_LTO5   \n3  2016-11-13 2016-11-13  POOLPRIMUTILGB        1                TEST_ARCHIVE   \n4  2016-11-13 2016-11-13  POOLPRIMUTILGB        1         NHS_ARCHIVE_PRIMARY   \n\n  COMMMETH: ADDRESS: SCHEDULE_NAME:  EXAMINED:  AFFECTED:  ...  IDLE:  \\\n0       NaN      NaN            NaN          0          0  ...      0   \n1       NaN      NaN            NaN          0          0  ...      0   \n2       NaN      NaN    MAINTENANCE      23938      23938  ...      0   \n3       NaN      NaN            NaN          0          0  ...      0   \n4       NaN      NaN            NaN          0          0  ...      0   \n\n   MEDIAW:  PROCESSES:  SUCCESSFUL:  VOLUME_NAME:                DRIVE_NAME:  \\\n0        0           0          YES           NaN                        NaN   \n1        0           0          YES      C00890L5  DRIVE10 (/dev/TDRIVE-R10)   \n2       28           1          YES           NaN                        NaN   \n3        0           0          YES           NaN                        NaN   \n4        0           0          YES           NaN                        NaN   \n\n  LIBRARY_NAME: LAST_USE: COMM_WAIT: NUM_OFFSITE_VOLS:  \n0           NaN       NaN        0.0               NaN  \n1       3584LIB      Data        0.0               NaN  \n2           NaN       NaN        0.0               NaN  \n3           NaN       NaN        0.0               NaN  \n4           NaN       NaN        0.0               NaN  \n\n[5 rows x 22 columns]",
                        "text/html": "<div>\n<style scoped>\n    .dataframe tbody tr th:only-of-type {\n        vertical-align: middle;\n    }\n\n    .dataframe tbody tr th {\n        vertical-align: top;\n    }\n\n    .dataframe thead th {\n        text-align: right;\n    }\n</style>\n<table border=\"1\" class=\"dataframe\">\n  <thead>\n    <tr style=\"text-align: right;\">\n      <th></th>\n      <th>START_TIME:</th>\n      <th>END_TIME:</th>\n      <th>ACTIVITY:</th>\n      <th>NUMBER:</th>\n      <th>ENTITY:</th>\n      <th>COMMMETH:</th>\n      <th>ADDRESS:</th>\n      <th>SCHEDULE_NAME:</th>\n      <th>EXAMINED:</th>\n      <th>AFFECTED:</th>\n      <th>...</th>\n      <th>IDLE:</th>\n      <th>MEDIAW:</th>\n      <th>PROCESSES:</th>\n      <th>SUCCESSFUL:</th>\n      <th>VOLUME_NAME:</th>\n      <th>DRIVE_NAME:</th>\n      <th>LIBRARY_NAME:</th>\n      <th>LAST_USE:</th>\n      <th>COMM_WAIT:</th>\n      <th>NUM_OFFSITE_VOLS:</th>\n    </tr>\n  </thead>\n  <tbody>\n    <tr>\n      <th>0</th>\n      <td>2016-11-13</td>\n      <td>2016-11-13</td>\n      <td>POOLPRIMUTILGB</td>\n      <td>1</td>\n      <td>TEST_BACKUP</td>\n      <td>NaN</td>\n      <td>NaN</td>\n      <td>NaN</td>\n      <td>0</td>\n      <td>0</td>\n      <td>...</td>\n      <td>0</td>\n      <td>0</td>\n      <td>0</td>\n      <td>YES</td>\n      <td>NaN</td>\n      <td>NaN</td>\n      <td>NaN</td>\n      <td>NaN</td>\n      <td>0.0</td>\n      <td>NaN</td>\n    </tr>\n    <tr>\n      <th>1</th>\n      <td>2016-11-13</td>\n      <td>2016-11-13</td>\n      <td>TAPE MOUNT</td>\n      <td>0</td>\n      <td>NaN</td>\n      <td>NaN</td>\n      <td>NaN</td>\n      <td>NaN</td>\n      <td>0</td>\n      <td>0</td>\n      <td>...</td>\n      <td>0</td>\n      <td>0</td>\n      <td>0</td>\n      <td>YES</td>\n      <td>C00890L5</td>\n      <td>DRIVE10 (/dev/TDRIVE-R10)</td>\n      <td>3584LIB</td>\n      <td>Data</td>\n      <td>0.0</td>\n      <td>NaN</td>\n    </tr>\n    <tr>\n      <th>2</th>\n      <td>2016-11-13</td>\n      <td>2016-11-13</td>\n      <td>STGPOOL BACKUP</td>\n      <td>4616</td>\n      <td>VE_BKPOOL -&gt; COPYPOOL_LTO5</td>\n      <td>NaN</td>\n      <td>NaN</td>\n      <td>MAINTENANCE</td>\n      <td>23938</td>\n      <td>23938</td>\n      <td>...</td>\n      <td>0</td>\n      <td>28</td>\n      <td>1</td>\n      <td>YES</td>\n      <td>NaN</td>\n      <td>NaN</td>\n      <td>NaN</td>\n      <td>NaN</td>\n      <td>0.0</td>\n      <td>NaN</td>\n    </tr>\n    <tr>\n      <th>3</th>\n      <td>2016-11-13</td>\n      <td>2016-11-13</td>\n      <td>POOLPRIMUTILGB</td>\n      <td>1</td>\n      <td>TEST_ARCHIVE</td>\n      <td>NaN</td>\n      <td>NaN</td>\n      <td>NaN</td>\n      <td>0</td>\n      <td>0</td>\n      <td>...</td>\n      <td>0</td>\n      <td>0</td>\n      <td>0</td>\n      <td>YES</td>\n      <td>NaN</td>\n      <td>NaN</td>\n      <td>NaN</td>\n      <td>NaN</td>\n      <td>0.0</td>\n      <td>NaN</td>\n    </tr>\n    <tr>\n      <th>4</th>\n      <td>2016-11-13</td>\n      <td>2016-11-13</td>\n      <td>POOLPRIMUTILGB</td>\n      <td>1</td>\n      <td>NHS_ARCHIVE_PRIMARY</td>\n      <td>NaN</td>\n      <td>NaN</td>\n      <td>NaN</td>\n      <td>0</td>\n      <td>0</td>\n      <td>...</td>\n      <td>0</td>\n      <td>0</td>\n      <td>0</td>\n      <td>YES</td>\n      <td>NaN</td>\n      <td>NaN</td>\n      <td>NaN</td>\n      <td>NaN</td>\n      <td>0.0</td>\n      <td>NaN</td>\n    </tr>\n  </tbody>\n</table>\n<p>5 rows \u00d7 22 columns</p>\n</div>"
                    },
                    "metadata": {}
                }
            ]
        },
        {
            "metadata": {},
            "cell_type": "code",
            "source": "dbkup = df[df['ACTIVITY:'].str.match('BACKUP')].groupby('START_TIME:').sum().tail(-1).head(-1)",
            "execution_count": 14,
            "outputs": []
        },
        {
            "metadata": {},
            "cell_type": "markdown",
            "source": "### Covert bytes into terabytes"
        },
        {
            "metadata": {},
            "cell_type": "code",
            "source": "tb_dbkup = dbkup['BYTES:']/(1e+12)",
            "execution_count": 15,
            "outputs": []
        },
        {
            "metadata": {},
            "cell_type": "code",
            "source": "tb_dbkup",
            "execution_count": 16,
            "outputs": [
                {
                    "output_type": "execute_result",
                    "execution_count": 16,
                    "data": {
                        "text/plain": "START_TIME:\n2016-11-07    1.956957\n2016-11-08    2.186184\n2016-11-09    1.931205\n2016-11-10    1.889454\n2016-11-11    2.319285\n2016-11-12    1.720366\n2016-11-13    1.752807\n2016-11-14    1.980953\n2016-11-15    1.947673\n2016-11-16    2.332555\n2016-11-17    1.890884\n2016-11-18    2.136103\n2016-11-19    1.774389\n2016-11-20    1.794375\n2016-11-21    1.915587\n2016-11-22    2.152853\n2016-11-23    1.963544\n2016-11-24    1.968894\n2016-11-25    2.071913\n2016-11-26    1.862412\n2016-11-27    1.787671\n2016-11-28    1.989061\n2016-11-29    1.976046\n2016-11-30    2.005547\n2016-12-01    2.001853\n2016-12-02    2.113658\n2016-12-03    1.824735\n2016-12-04    1.830635\n2016-12-05    3.400948\nName: BYTES:, dtype: float64"
                    },
                    "metadata": {}
                }
            ]
        },
        {
            "metadata": {},
            "cell_type": "markdown",
            "source": "### Using a line graph to plot the TB per day backup by this Spectrum Protect instance"
        },
        {
            "metadata": {},
            "cell_type": "code",
            "source": "tb_dbkup.plot(kind='bar', color='green' , linewidth=3.0 , figsize=(16,8))\n\nplt.title(\"Spectrum Protect daily backup in TB\", color='blue')\nplt.xlabel(\"Date\", fontsize=16, color='red')\nplt.ylabel(\"TB\", fontsize=16, color='red')",
            "execution_count": 18,
            "outputs": [
                {
                    "output_type": "execute_result",
                    "execution_count": 18,
                    "data": {
                        "text/plain": "Text(0, 0.5, 'TB')"
                    },
                    "metadata": {}
                },
                {
                    "output_type": "display_data",
                    "data": {
                        "text/plain": "<Figure size 1152x576 with 1 Axes>",
                        "image/png": "[encoded data removed]"
                    },
                    "metadata": {
                        "needs_background": "light"
                    }
                }
            ]
        },
        {
            "metadata": {},
            "cell_type": "code",
            "source": "",
            "execution_count": null,
            "outputs": []
        }
    ],
    "metadata": {
        "kernelspec": {
            "name": "python3",
            "display_name": "Python 3.6",
            "language": "python"
        },
        "language_info": {
            "name": "python",
            "version": "3.6.9",
            "mimetype": "text/x-python",
            "codemirror_mode": {
                "name": "ipython",
                "version": 3
            },
            "pygments_lexer": "ipython3",
            "nbconvert_exporter": "python",
            "file_extension": ".py"
        }
    },
    "nbformat": 4,
    "nbformat_minor": 1
}